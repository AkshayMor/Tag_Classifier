{
  "nbformat": 4,
  "nbformat_minor": 0,
  "metadata": {
    "colab": {
      "name": "akshaymor8287.ipynb",
      "provenance": []
    },
    "kernelspec": {
      "name": "python3",
      "display_name": "Python 3"
    }
  },
  "cells": [
    {
      "cell_type": "code",
      "metadata": {
        "id": "YbYGEhVy955r",
        "colab_type": "code",
        "colab": {}
      },
      "source": [
        "import pandas as pd\n",
        "import numpy as np\n",
        "\n",
        "# Load the training set\n",
        "data=pd.read_csv('/content/drive/My Drive/tag_identification_dataset.csv',encoding='unicode_escape')\n",
        "train_text = data['question']\n",
        "train_labels = data['tag']\n",
        "\n",
        "# Load the test set\n",
        "df= pd.read_csv('/content/drive/My Drive/Test_case.csv',encoding='unicode_escape')\n",
        "test_text = df['question']"
      ],
      "execution_count": 0,
      "outputs": []
    },
    {
      "cell_type": "code",
      "metadata": {
        "id": "gBB29vKTWcKd",
        "colab_type": "code",
        "colab": {}
      },
      "source": [
        "# Combining questions from both training and test set \n",
        "text=[]\n",
        "text=train_text.append(test_text)"
      ],
      "execution_count": 0,
      "outputs": []
    },
    {
      "cell_type": "code",
      "metadata": {
        "id": "vgtENgaS-2ee",
        "colab_type": "code",
        "colab": {}
      },
      "source": [
        "# Encoding tags\n",
        "from sklearn.preprocessing import LabelBinarizer\n",
        "encoder1 = LabelBinarizer()\n",
        "encoder1.fit(train_labels)\n",
        "y_data = encoder1.transform(train_labels)"
      ],
      "execution_count": 0,
      "outputs": []
    },
    {
      "cell_type": "code",
      "metadata": {
        "id": "4Mo8KRnA_r1W",
        "colab_type": "code",
        "colab": {}
      },
      "source": [
        "# Tokenization \n",
        "from keras.preprocessing.text import Tokenizer\n",
        "word_tokenizer = Tokenizer()\n",
        "word_tokenizer.fit_on_texts(text)\n",
        "length = len(word_tokenizer.word_index) + 1\n",
        "embedded_question = word_tokenizer.texts_to_sequences(text)"
      ],
      "execution_count": 0,
      "outputs": []
    },
    {
      "cell_type": "code",
      "metadata": {
        "id": "mnOuJx3dD2mc",
        "colab_type": "code",
        "colab": {}
      },
      "source": [
        "# Padding \n",
        "from nltk.tokenize import word_tokenize\n",
        "from keras.preprocessing.sequence import pad_sequences\n",
        "count = lambda question: len(word_tokenize(question))\n",
        "longest_question = max(text, key=count)\n",
        "longest_question = len(word_tokenize(longest_question))+5 \n",
        "padded_question = pad_sequences(embedded_question, longest_question, padding='post')"
      ],
      "execution_count": 0,
      "outputs": []
    },
    {
      "cell_type": "code",
      "metadata": {
        "id": "6ThNOZhUGTWn",
        "colab_type": "code",
        "colab": {}
      },
      "source": [
        "# Create layers\n",
        "from keras.models import Sequential\n",
        "from keras.layers import Dense, Activation,Flatten\n",
        "from keras.layers.embeddings import Embedding\n",
        "model = Sequential()\n",
        "model.add(Embedding(length, 20, input_length=longest_question))\n",
        "model.add(Flatten())\n",
        "model.add(Dense(7, activation='softmax'))"
      ],
      "execution_count": 0,
      "outputs": []
    },
    {
      "cell_type": "code",
      "metadata": {
        "id": "R5QDpfm2MTSk",
        "colab_type": "code",
        "colab": {}
      },
      "source": [
        "model.compile(optimizer='adam', loss='categorical_crossentropy', metrics=['acc'])"
      ],
      "execution_count": 0,
      "outputs": []
    },
    {
      "cell_type": "code",
      "metadata": {
        "id": "W4DkKqh1anO7",
        "colab_type": "code",
        "colab": {}
      },
      "source": [
        "# Break the training and test set\n",
        "ques=pd.DataFrame(padded_question)\n",
        "train=ques.iloc[:107,].values\n",
        "test=ques.iloc[107:,].values"
      ],
      "execution_count": 0,
      "outputs": []
    },
    {
      "cell_type": "code",
      "metadata": {
        "id": "4I0boHavMueF",
        "colab_type": "code",
        "colab": {}
      },
      "source": [
        "# Fit the model\n",
        "model.fit(train, y_data, epochs=200, verbose=1)"
      ],
      "execution_count": 0,
      "outputs": []
    },
    {
      "cell_type": "code",
      "metadata": {
        "id": "QbGfCgyqQ492",
        "colab_type": "code",
        "colab": {}
      },
      "source": [
        "# Predict the tags\n",
        "predictions = model.predict(test)\n",
        "tag_labels = encoder1.classes_\n",
        "predicted_tags = tag_labels[np.argmax(predictions,axis=1)]\n",
        "print (predicted_tags)\n"
      ],
      "execution_count": 0,
      "outputs": []
    },
    {
      "cell_type": "code",
      "metadata": {
        "id": "6ArlnOzfRbOD",
        "colab_type": "code",
        "colab": {}
      },
      "source": [
        "# Convert into csv file\n",
        "tag=predicted_tags.tolist()\n",
        "df['tag']=tag\n",
        "df.to_csv('akshaymor8287.csv')"
      ],
      "execution_count": 0,
      "outputs": []
    },
    {
      "cell_type": "code",
      "metadata": {
        "id": "6g_HAGK73ap0",
        "colab_type": "code",
        "colab": {}
      },
      "source": [
        ""
      ],
      "execution_count": 0,
      "outputs": []
    }
  ]
}